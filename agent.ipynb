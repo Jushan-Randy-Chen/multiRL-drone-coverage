{
 "cells": [
  {
   "cell_type": "code",
   "execution_count": 15,
   "metadata": {},
   "outputs": [],
   "source": [
    "from random import randint\n",
    "import numpy as np\n",
    "ACTION = {'UP':[0,0,1],'DOWN':[0,0,-1], 'NORTH':[1,0,0], 'SOUTH':[-1,0,0], 'WEST':[0,1,0], 'EAST':[0,-1,0]}"
   ]
  },
  {
   "cell_type": "code",
   "execution_count": 28,
   "metadata": {},
   "outputs": [],
   "source": [
    "class Agent:\n",
    "    \n",
    "    x = 0; \n",
    "    y = 0;\n",
    "    z = 0;\n",
    "    x_lim = 0;\n",
    "    y_lim = 0;\n",
    "    z_lim = 0;\n",
    "    hangle = 0;\n",
    "    rank = 1;\n",
    "    m = None;\n",
    "    \n",
    "    def __init__(self, m, hangle, rank):\n",
    "        self.m = m;\n",
    "        self.x_lim, self.y_lim, self.z_lim = m.get_lim();\n",
    "        self.__init_rand_state();\n",
    "        self.hangle = hangle;\n",
    "        self.rank = rank;\n",
    "        \n",
    "    def __init_rand_state(self):\n",
    "        self.x = randint(0, self.x_lim);\n",
    "        self.y = randint(0, self.y_lim);\n",
    "        self.z = randint(0, self.z_lim);\n",
    "        \n",
    "    def get_state(self):\n",
    "        return [self.x, self.y, self.z];\n",
    "    \n",
    "    def set_state(self, x, y, z):\n",
    "        if x < self.x_lim and x >= 0 and y < self.y_lim and y >=0 and z < self.z_lim and z>= 0:\n",
    "            self.x = x;\n",
    "            self.y = y;\n",
    "            self.z = z;\n",
    "        \n",
    "    def move(self,act):\n",
    "        act_value = ACTION.get(act);\n",
    "        self.set_state(self.x+act_value[0],self.y+act_value[1],self.z+act_value[2]);\n",
    "        \n",
    "    def state_covered(self, x, y):\n",
    "        return abs(x-self.x)/self.z <= np.tan(self.hangle) and abs(y-self.y)/self.z <= np.tan(self.hangle);\n",
    "    \n",
    "    def map_covered(self):\n",
    "        map_space = self.m.get_map();\n",
    "        m_covered = [];\n",
    "        for x in range(self.x_lim):\n",
    "            for y in range(self.y_lim):\n",
    "                if map_space[x][y] == 1:\n",
    "                    m_covered.append(self.state_covered(x,y))\n",
    "        return m_covered;\n",
    "        "
   ]
  },
  {
   "cell_type": "code",
   "execution_count": 29,
   "metadata": {},
   "outputs": [],
   "source": [
    "class Map_space:\n",
    "    map_space = np.array([0, 0, 0, 1, 1, 1, 0, 0, 1, 1, 1, 0, 0, 1, 1, 1, 0, 0, 1, 1, 1, 0, 0, 0]).reshape(4,6);\n",
    "    height = 4;\n",
    "    def get_lim(self):\n",
    "        return self.map_space.shape[0], self.map_space.shape[1], self.height\n",
    "    \n",
    "    def get_map(self):\n",
    "        return self.map_space"
   ]
  },
  {
   "cell_type": "code",
   "execution_count": 73,
   "metadata": {},
   "outputs": [],
   "source": [
    "def map_covered_all(agent_list):\n",
    "    m_covered_all = np.zeros(len(agent_list[0].map_covered()));\n",
    "    for agent in agent_list:\n",
    "        m_covered = agent.map_covered();\n",
    "        for n in range(len(m_covered_all)):\n",
    "            if m_covered[n]:\n",
    "                m_covered_all[n] = m_covered_all[n]+1;\n",
    "    return m_covered_all;"
   ]
  },
  {
   "cell_type": "code",
   "execution_count": 80,
   "metadata": {},
   "outputs": [],
   "source": [
    "def global_r(agent_list, b):\n",
    "    num_covered = 0;\n",
    "    num_overlap = 0;\n",
    "    m_covered_all = map_covered_all(agent_list);\n",
    "    for n in m_covered_all:\n",
    "        if n >= 1:\n",
    "            num_covered = num_covered+1;\n",
    "            if n > 1:\n",
    "                num_overlap = num_overlap+1;\n",
    "    if num_covered >= b*len(m_covered_all) and num_overlap == 0:\n",
    "        return 1;\n",
    "    else:\n",
    "        return 0;\n",
    "    "
   ]
  },
  {
   "cell_type": "code",
   "execution_count": 74,
   "metadata": {},
   "outputs": [],
   "source": [
    "a1 = Agent(Map_space(), np.pi/4, 1)\n",
    "a2 = Agent(Map_space(), np.pi/4, 2)"
   ]
  },
  {
   "cell_type": "code",
   "execution_count": 75,
   "metadata": {},
   "outputs": [
    {
     "name": "stdout",
     "output_type": "stream",
     "text": [
      "[1, 6, 2]\n",
      "[0, 4, 2]\n"
     ]
    }
   ],
   "source": [
    "print(a1.get_state())\n",
    "print(a2.get_state())"
   ]
  },
  {
   "cell_type": "code",
   "execution_count": 66,
   "metadata": {},
   "outputs": [
    {
     "data": {
      "text/plain": [
       "[1, 3, 1]"
      ]
     },
     "execution_count": 66,
     "metadata": {},
     "output_type": "execute_result"
    }
   ],
   "source": [
    "a1.move('UP')\n",
    "a1.get_state()"
   ]
  },
  {
   "cell_type": "code",
   "execution_count": 76,
   "metadata": {},
   "outputs": [
    {
     "data": {
      "text/plain": [
       "[False,\n",
       " False,\n",
       " True,\n",
       " False,\n",
       " False,\n",
       " False,\n",
       " False,\n",
       " False,\n",
       " False,\n",
       " False,\n",
       " False,\n",
       " False]"
      ]
     },
     "execution_count": 76,
     "metadata": {},
     "output_type": "execute_result"
    }
   ],
   "source": [
    "a1.map_covered()"
   ]
  },
  {
   "cell_type": "code",
   "execution_count": 77,
   "metadata": {},
   "outputs": [
    {
     "data": {
      "text/plain": [
       "[True, True, True, False, True, True, False, False, False, False, False, False]"
      ]
     },
     "execution_count": 77,
     "metadata": {},
     "output_type": "execute_result"
    }
   ],
   "source": [
    "a2.map_covered()"
   ]
  },
  {
   "cell_type": "code",
   "execution_count": 60,
   "metadata": {},
   "outputs": [
    {
     "data": {
      "text/plain": [
       "[4, 0, 0]"
      ]
     },
     "execution_count": 60,
     "metadata": {},
     "output_type": "execute_result"
    }
   ],
   "source": [
    "a2.move('UP')\n",
    "a2.get_state()\n"
   ]
  },
  {
   "cell_type": "code",
   "execution_count": 59,
   "metadata": {},
   "outputs": [
    {
     "name": "stdout",
     "output_type": "stream",
     "text": [
      "4\n"
     ]
    }
   ],
   "source": [
    "print(randint(0,4))"
   ]
  },
  {
   "cell_type": "code",
   "execution_count": 61,
   "metadata": {},
   "outputs": [],
   "source": [
    "m = Map_space()"
   ]
  },
  {
   "cell_type": "code",
   "execution_count": 62,
   "metadata": {},
   "outputs": [
    {
     "data": {
      "text/plain": [
       "(4, 6, 4)"
      ]
     },
     "execution_count": 62,
     "metadata": {},
     "output_type": "execute_result"
    }
   ],
   "source": [
    "m.get_lim()"
   ]
  },
  {
   "cell_type": "code",
   "execution_count": 78,
   "metadata": {},
   "outputs": [
    {
     "data": {
      "text/plain": [
       "array([1., 1., 2., 0., 1., 1., 0., 0., 0., 0., 0., 0.])"
      ]
     },
     "execution_count": 78,
     "metadata": {},
     "output_type": "execute_result"
    }
   ],
   "source": [
    "map_covered_all([a1, a2])"
   ]
  },
  {
   "cell_type": "code",
   "execution_count": 81,
   "metadata": {},
   "outputs": [
    {
     "data": {
      "text/plain": [
       "0"
      ]
     },
     "execution_count": 81,
     "metadata": {},
     "output_type": "execute_result"
    }
   ],
   "source": [
    "global_r([a1, a2], 0.95)"
   ]
  },
  {
   "cell_type": "code",
   "execution_count": null,
   "metadata": {},
   "outputs": [],
   "source": []
  }
 ],
 "metadata": {
  "kernelspec": {
   "display_name": "Python 3",
   "language": "python",
   "name": "python3"
  },
  "language_info": {
   "codemirror_mode": {
    "name": "ipython",
    "version": 3
   },
   "file_extension": ".py",
   "mimetype": "text/x-python",
   "name": "python",
   "nbconvert_exporter": "python",
   "pygments_lexer": "ipython3",
   "version": "3.7.1"
  }
 },
 "nbformat": 4,
 "nbformat_minor": 2
}
