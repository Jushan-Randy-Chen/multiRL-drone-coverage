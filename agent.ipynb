{
 "cells": [
  {
   "cell_type": "code",
   "execution_count": 16,
   "metadata": {},
   "outputs": [],
   "source": [
    "ACTION = {'UP':[0,0,1],'DOWN':[0,0,-1], 'NORTH':[1,0,0], 'SOUTH':[-1,0,0], 'WEST':[0,1,0], 'EAST':[0,-1,0]}"
   ]
  },
  {
   "cell_type": "code",
   "execution_count": 13,
   "metadata": {},
   "outputs": [],
   "source": [
    "from random import randint\n",
    "class Agent:\n",
    "    \n",
    "    x = 0; \n",
    "    y = 0;\n",
    "    z = 0;\n",
    "    rank = 1;\n",
    "    \n",
    "    def __init__(self,x_lim,y_lim,z_lim):\n",
    "        self.__init_state(x_lim,y_lim,z_lim);\n",
    "        \n",
    "    def __init_state(self,x_lim,y_lim,z_lim):\n",
    "        self.x = randint(0, x_lim);\n",
    "        self.y = randint(0, y_lim);\n",
    "        self.z = randint(0, z_lim);\n",
    "        \n",
    "    def get_state(self):\n",
    "        return [self.x, self.y, self.z];\n",
    "        \n",
    "    #need to set boundary \n",
    "    def move(self,act):\n",
    "        act_value = ACTION.get(act);\n",
    "        self.x = self.x+act_value[0];\n",
    "        self.y = self.y+act_value[1];\n",
    "        self.z = self.z+act_value[2];\n",
    "        \n",
    "    "
   ]
  },
  {
   "cell_type": "code",
   "execution_count": 14,
   "metadata": {},
   "outputs": [
    {
     "name": "stdout",
     "output_type": "stream",
     "text": [
      "3\n",
      "1\n",
      "0\n"
     ]
    }
   ],
   "source": [
    "a1 = Agent(7,7,4);\n",
    "print(a1.x);\n",
    "print(a1.y);\n",
    "print(a1.z);"
   ]
  },
  {
   "cell_type": "code",
   "execution_count": 21,
   "metadata": {},
   "outputs": [
    {
     "name": "stdout",
     "output_type": "stream",
     "text": [
      "-1\n"
     ]
    }
   ],
   "source": [
    "a1.move('EAST')\n",
    "print(a1.y)"
   ]
  },
  {
   "cell_type": "code",
   "execution_count": null,
   "metadata": {},
   "outputs": [],
   "source": []
  }
 ],
 "metadata": {
  "kernelspec": {
   "display_name": "Python 3",
   "language": "python",
   "name": "python3"
  },
  "language_info": {
   "codemirror_mode": {
    "name": "ipython",
    "version": 3
   },
   "file_extension": ".py",
   "mimetype": "text/x-python",
   "name": "python",
   "nbconvert_exporter": "python",
   "pygments_lexer": "ipython3",
   "version": "3.7.1"
  }
 },
 "nbformat": 4,
 "nbformat_minor": 2
}
