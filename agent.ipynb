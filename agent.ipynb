{
 "cells": [
  {
   "cell_type": "code",
   "execution_count": 8,
   "metadata": {},
   "outputs": [],
   "source": [
    "from random import randrange\n",
    "import numpy as np\n",
    "#ACTION = {'UP':[0,0,1],'DOWN':[0,0,-1], 'NORTH':[1,0,0], 'SOUTH':[-1,0,0], 'WEST':[0,1,0], 'EAST':[0,-1,0]}\n",
    "ACTION = [[0,0,1],[0,0,-1],[1,0,0],[-1,0,0],[0,1,0],[0,-1,0]]\n",
    "HANGLE = np.pi/4;"
   ]
  },
  {
   "cell_type": "code",
   "execution_count": 2,
   "metadata": {},
   "outputs": [],
   "source": [
    "class Agent:\n",
    "    \n",
    "    x = 0; \n",
    "    y = 0;\n",
    "    z = 0;\n",
    "    x_lim = 0;\n",
    "    y_lim = 0;\n",
    "    z_lim = 0;\n",
    "    hangle = HANGLE;\n",
    "    rank = 1;\n",
    "    m = None;\n",
    "    current_act = 'UP';\n",
    "    \n",
    "    def __init__(self, m, rank):\n",
    "        self.m = m;\n",
    "        self.x_lim, self.y_lim, self.z_lim = m.get_lim();\n",
    "        self.__init_rand_state();\n",
    "        self.rank = rank;\n",
    "        \n",
    "    def __init_rand_state(self):\n",
    "        self.x = randrange(0, self.x_lim);\n",
    "        self.y = randrange(0, self.y_lim);\n",
    "        self.z = randrange(1, self.z_lim);\n",
    "        \n",
    "    def get_state(self):\n",
    "        return [self.x, self.y, self.z];\n",
    "    \n",
    "    def set_state(self, x, y, z):\n",
    "        if x < self.x_lim and x >= 0 and y < self.y_lim and y >=0 and z < self.z_lim and z>= 1:\n",
    "            self.x = x;\n",
    "            self.y = y;\n",
    "            self.z = z;\n",
    "        \n",
    "    def move(self,act):\n",
    "        self.current_act = act;\n",
    "        act_value = ACTION[act];\n",
    "        self.set_state(self.x+act_value[0],self.y+act_value[1],self.z+act_value[2]);\n",
    "    \n",
    "    def get_act(self):\n",
    "        return self.current_act;\n",
    "        \n",
    "    def state_covered(self, x, y):\n",
    "        return abs(x-self.x)/self.z <= np.tan(self.hangle) and abs(y-self.y)/self.z <= np.tan(self.hangle);\n",
    "    \n",
    "    def map_covered(self):\n",
    "        map_space = self.m.get_map();\n",
    "        m_covered = [];\n",
    "        for x in range(self.x_lim):\n",
    "            for y in range(self.y_lim):\n",
    "                if map_space[x][y] >= 1:\n",
    "                    m_covered.append(self.state_covered(x,y))\n",
    "        return m_covered;\n",
    "        "
   ]
  },
  {
   "cell_type": "code",
   "execution_count": 3,
   "metadata": {},
   "outputs": [],
   "source": [
    "class Map_space:\n",
    "    map_space = np.array([0,0,1,0,1,0]).reshape(2,3)\n",
    "    #map_space = np.array([0, 0, 0, 1, 1, 1, 0, 0, 1, 1, 1, 0, 0, 1, 1, 1, 0, 0, 1, 1, 1, 0, 0, 0]).reshape(4,6);\n",
    "    height = 4;\n",
    "    \n",
    "    def get_lim(self):\n",
    "        return self.map_space.shape[0], self.map_space.shape[1], self.height\n",
    "    \n",
    "    def get_map(self):\n",
    "        return self.map_space"
   ]
  },
  {
   "cell_type": "code",
   "execution_count": 4,
   "metadata": {},
   "outputs": [],
   "source": [
    "def map_covered_all(agent_list):\n",
    "    m_covered_all = np.zeros(len(agent_list[0].map_covered()));\n",
    "    for agent in agent_list:\n",
    "        m_covered = agent.map_covered();\n",
    "        for n in range(len(m_covered_all)):\n",
    "            if m_covered[n]:\n",
    "                m_covered_all[n] = m_covered_all[n]+1;\n",
    "    return m_covered_all;"
   ]
  },
  {
   "cell_type": "code",
   "execution_count": 5,
   "metadata": {},
   "outputs": [],
   "source": [
    "def global_r(agent_list, b):\n",
    "    num_covered = 0;\n",
    "    num_overlap = 0;\n",
    "    m_covered_all = map_covered_all(agent_list);\n",
    "    for n in m_covered_all:\n",
    "        if n >= 1:\n",
    "            num_covered = num_covered+1;\n",
    "            if n > 1:\n",
    "                num_overlap = num_overlap+1;\n",
    "    if num_covered >= b*len(m_covered_all) and num_overlap == 0:\n",
    "        return 1;\n",
    "    else:\n",
    "        return 0;"
   ]
  },
  {
   "cell_type": "code",
   "execution_count": 13,
   "metadata": {},
   "outputs": [],
   "source": [
    "def get_basis(agent_list, m):\n",
    "    sum_d = sum(m.get_lim())\n",
    "    basis = np.zeros([sum_d*len(agent_list),len(ACTION)**len(agent_list)])\n",
    "    joint_act = 0;\n",
    "\n",
    "    for n in range(len(agent_list)):\n",
    "        a = agent_list[n];\n",
    "        joint_act = joint_act+a.current_act*(len(ACTION)**n)\n",
    "        \n",
    "    for n in range(len(agent_list)):\n",
    "        current_state = agent_list[n].get_state();        \n",
    "        for l in range(len(current_state)):\n",
    "            basis[n*sum_d+sum(m.get_lim()[0:l])+current_state[l]][joint_act] = 1;           \n",
    "    \n",
    "    return basis\n",
    "    return basis.reshape(1,basis.size)"
   ]
  },
  {
   "cell_type": "code",
   "execution_count": 7,
   "metadata": {},
   "outputs": [],
   "source": [
    "def get_q(s_list, a_list, para, m):\n",
    "    a_list = None;\n",
    "    \n",
    "    for n in range(len(a_list)):\n",
    "        a = Agent();\n",
    "        a.set_state(s_list[n])\n",
    "        a.move(a_list[n])\n",
    "        a_list.append(a)\n",
    "    \n",
    "    q = get_basis(a_list, m)*para\n",
    "    return q;"
   ]
  },
  {
   "cell_type": "code",
   "execution_count": null,
   "metadata": {},
   "outputs": [],
   "source": [
    "def get_opt_q(agent_list, para, m):\n",
    "    s_list = [];\n",
    "    num_a = len(agent_list)\n",
    "    for a in agent_list:\n",
    "        s_list.append(a.get_state());\n",
    "        \n",
    "    act_list = [];\n",
    "    q_list = [];\n",
    "    for n in range(len(ACTION)**num_a):\n",
    "        act = [];\n",
    "        for m in range(num_a):\n",
    "            act.append(n%len**num_a);\n",
    "        act_list.append(act);\n",
    "        q_list.append(get_q(s_list[n], act, para, m))\n",
    "    opt_q = max(q_list)\n",
    "    opt_act = act_list[q_list.index(opt_q)]\n",
    "    update_policy(s_list, act);\n",
    "    return opt_q, opt_act"
   ]
  },
  {
   "cell_type": "code",
   "execution_count": null,
   "metadata": {},
   "outputs": [],
   "source": [
    "def update_para():"
   ]
  },
  {
   "cell_type": "code",
   "execution_count": null,
   "metadata": {},
   "outputs": [],
   "source": [
    "def update_policy(s_list, act)"
   ]
  },
  {
   "cell_type": "code",
   "execution_count": 8,
   "metadata": {},
   "outputs": [],
   "source": [
    "gamma = 0.9 #discount factor\n",
    "alpha = 0.1 #learning rate\n",
    "epsilon = 0.9 #possibility for taking random action, diminished over time\n",
    "\n"
   ]
  },
  {
   "cell_type": "code",
   "execution_count": 11,
   "metadata": {},
   "outputs": [],
   "source": [
    "m = Map_space()\n",
    "a1 = Agent(Map_space(),1)\n",
    "a2 = Agent(Map_space(),2)"
   ]
  },
  {
   "cell_type": "code",
   "execution_count": 5,
   "metadata": {},
   "outputs": [],
   "source": [
    "a = [[1,2],[2,3]]"
   ]
  },
  {
   "cell_type": "code",
   "execution_count": 9,
   "metadata": {},
   "outputs": [
    {
     "name": "stdout",
     "output_type": "stream",
     "text": [
      "6\n"
     ]
    }
   ],
   "source": [
    "print(len(ACTION))"
   ]
  },
  {
   "cell_type": "code",
   "execution_count": null,
   "metadata": {},
   "outputs": [],
   "source": []
  }
 ],
 "metadata": {
  "kernelspec": {
   "display_name": "Python 3",
   "language": "python",
   "name": "python3"
  },
  "language_info": {
   "codemirror_mode": {
    "name": "ipython",
    "version": 3
   },
   "file_extension": ".py",
   "mimetype": "text/x-python",
   "name": "python",
   "nbconvert_exporter": "python",
   "pygments_lexer": "ipython3",
   "version": "3.7.1"
  }
 },
 "nbformat": 4,
 "nbformat_minor": 2
}
