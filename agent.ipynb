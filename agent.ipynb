{
 "cells": [
  {
   "cell_type": "code",
   "execution_count": 1,
   "metadata": {},
   "outputs": [],
   "source": [
    "ACTION = {'UP':[0,0,1],'DOWN':[0,0,-1], 'NORTH':[1,0,0], 'SOUTH':[-1,0,0], 'WEST':[0,1,0], 'EAST':[0,-1,0]}"
   ]
  },
  {
   "cell_type": "code",
   "execution_count": 51,
   "metadata": {},
   "outputs": [],
   "source": [
    "from random import randint\n",
    "class Agent:\n",
    "    \n",
    "    x = 0; \n",
    "    y = 0;\n",
    "    z = 0;\n",
    "    x_lim = 0;\n",
    "    y_lim = 0;\n",
    "    z_lim = 0;\n",
    "    rank = 1;\n",
    "    \n",
    "    def __init__(self,x_lim,y_lim,z_lim):\n",
    "        self.x_lim = x_lim;\n",
    "        self.y_lim = y_lim;\n",
    "        self.z_lim = z_lim;\n",
    "        self.__init_rand_state();\n",
    "        \n",
    "    def __init_rand_state(self):\n",
    "        self.x = randint(0, self.x_lim);\n",
    "        self.y = randint(0, self.y_lim);\n",
    "        self.z = randint(0, self.z_lim);\n",
    "        \n",
    "    def get_state(self):\n",
    "        return [self.x, self.y, self.z];\n",
    "    \n",
    "    def set_state(self, x, y, z):\n",
    "        if x <= self.x_lim & y <= self.y_lim & z <= self.z_lim:\n",
    "            self.x = x;\n",
    "            self.y = y;\n",
    "            self.z = z;\n",
    "        \n",
    "    #need to set boundary \n",
    "    def move(self,act):\n",
    "        act_value = ACTION.get(act);\n",
    "        self.set_state(self.x+act_value[0],self.y+act_value[1],self.z+act_value[2]);\n",
    "        \n",
    "    "
   ]
  },
  {
   "cell_type": "code",
   "execution_count": 52,
   "metadata": {},
   "outputs": [
    {
     "name": "stdout",
     "output_type": "stream",
     "text": [
      "3\n",
      "6\n",
      "0\n"
     ]
    }
   ],
   "source": [
    "a1 = Agent(7,7,4);\n",
    "print(a1.x);\n",
    "print(a1.y);\n",
    "print(a1.z);"
   ]
  },
  {
   "cell_type": "code",
   "execution_count": 54,
   "metadata": {},
   "outputs": [
    {
     "name": "stdout",
     "output_type": "stream",
     "text": [
      "[3, 6, 0]\n"
     ]
    }
   ],
   "source": [
    "a1.move('UP')\n",
    "print(a1.get_state())"
   ]
  },
  {
   "cell_type": "code",
   "execution_count": 50,
   "metadata": {},
   "outputs": [
    {
     "data": {
      "text/plain": [
       "[4, 7, 2]"
      ]
     },
     "execution_count": 50,
     "metadata": {},
     "output_type": "execute_result"
    }
   ],
   "source": [
    "#1.set_state(1,1,1)\n",
    "\n",
    "a1.move('NORTH')\n",
    "a1.get_state()"
   ]
  },
  {
   "cell_type": "code",
   "execution_count": 59,
   "metadata": {},
   "outputs": [
    {
     "data": {
      "text/plain": [
       "True"
      ]
     },
     "execution_count": 59,
     "metadata": {},
     "output_type": "execute_result"
    }
   ],
   "source": [
    "x = 1\n",
    "y = 2\n",
    "0<=x&y<=3\n"
   ]
  },
  {
   "cell_type": "code",
   "execution_count": null,
   "metadata": {},
   "outputs": [],
   "source": []
  }
 ],
 "metadata": {
  "kernelspec": {
   "display_name": "Python 3",
   "language": "python",
   "name": "python3"
  },
  "language_info": {
   "codemirror_mode": {
    "name": "ipython",
    "version": 3
   },
   "file_extension": ".py",
   "mimetype": "text/x-python",
   "name": "python",
   "nbconvert_exporter": "python",
   "pygments_lexer": "ipython3",
   "version": "3.7.1"
  }
 },
 "nbformat": 4,
 "nbformat_minor": 2
}
